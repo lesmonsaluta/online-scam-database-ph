{
 "cells": [
  {
   "cell_type": "code",
   "execution_count": 1,
   "metadata": {},
   "outputs": [],
   "source": [
    "import re\n",
    "import pytesseract\n",
    "import cv2"
   ]
  },
  {
   "cell_type": "code",
   "execution_count": 6,
   "metadata": {},
   "outputs": [],
   "source": [
    "image_dir = \"test_data/test_image.png\""
   ]
  },
  {
   "cell_type": "code",
   "execution_count": 8,
   "metadata": {},
   "outputs": [],
   "source": [
    "img = cv2.imread(image_dir, cv2.IMREAD_COLOR)\n",
    "img = cv2.blur(img, (5, 5))"
   ]
  },
  {
   "cell_type": "code",
   "execution_count": 14,
   "metadata": {},
   "outputs": [
    {
     "name": "stdout",
     "output_type": "stream",
     "text": [
      "---- Raw text ----\n",
      "To: +63 981 546 0010\n",
      "Text Message\n",
      "Friday 3:20AM\n",
      "Get Today Now, 25th PayDay Blast Free 6,888p Bonus on\n",
      "GoJackpot! Be Ready Too for Friday Bonus 6,888p on\n",
      "Tomorrow! New Player, Free 777p + 177p at GoJackpot2.tv\n",
      "\n"
     ]
    }
   ],
   "source": [
    "text = pytesseract.image_to_string(cv2.imread(image_dir, cv2.IMREAD_COLOR), config='--psm 6')\n",
    "\n",
    "# Output\n",
    "print(\"---- Raw text ----\")\n",
    "print(text)\n"
   ]
  },
  {
   "cell_type": "code",
   "execution_count": 15,
   "metadata": {},
   "outputs": [],
   "source": [
    "pattern = r'(\\+63\\s*\\(?\\d{3}\\)?\\s*\\d{3}\\s*\\d{4})|(09\\s*\\(?\\d{2}\\)?\\s*\\d{3}\\s*\\d{4})'"
   ]
  },
  {
   "cell_type": "code",
   "execution_count": 16,
   "metadata": {},
   "outputs": [
    {
     "name": "stdout",
     "output_type": "stream",
     "text": [
      "['+639815460010']\n"
     ]
    }
   ],
   "source": [
    "# Find all matches\n",
    "matches = re.findall(pattern, text)\n",
    "\n",
    "# Process matches\n",
    "extracted_numbers = []\n",
    "for match in matches:\n",
    "    # Combine the matched groups into one number\n",
    "    number = ''.join(match)\n",
    "    # Remove spaces and parentheses\n",
    "    number = re.sub(r'[\\s\\(\\)]', '', number)\n",
    "    extracted_numbers.append(number)\n",
    "\n",
    "# Display or use the extracted numbers\n",
    "print(extracted_numbers)"
   ]
  },
  {
   "cell_type": "code",
   "execution_count": null,
   "metadata": {},
   "outputs": [],
   "source": []
  }
 ],
 "metadata": {
  "kernelspec": {
   "display_name": ".venv",
   "language": "python",
   "name": "python3"
  },
  "language_info": {
   "codemirror_mode": {
    "name": "ipython",
    "version": 3
   },
   "file_extension": ".py",
   "mimetype": "text/x-python",
   "name": "python",
   "nbconvert_exporter": "python",
   "pygments_lexer": "ipython3",
   "version": "3.9.18"
  }
 },
 "nbformat": 4,
 "nbformat_minor": 2
}
